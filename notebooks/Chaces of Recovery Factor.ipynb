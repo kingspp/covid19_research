{
 "cells": [
  {
   "cell_type": "code",
   "execution_count": 1,
   "metadata": {
    "collapsed": true,
    "pycharm": {
     "is_executing": false
    }
   },
   "outputs": [
    {
     "traceback": [
      "\u001b[0;36m  File \u001b[0;32m\"<ipython-input-1-747e8e7d1315>\"\u001b[0;36m, line \u001b[0;32m5\u001b[0m\n\u001b[0;31m    Chances of Recovery = Recovered Count / Death Count * (1 / (Country's Median Age/100))\u001b[0m\n\u001b[0m             ^\u001b[0m\n\u001b[0;31mSyntaxError\u001b[0m\u001b[0;31m:\u001b[0m invalid syntax\n"
     ],
     "ename": "SyntaxError",
     "evalue": "invalid syntax (<ipython-input-1-747e8e7d1315>, line 5)",
     "output_type": "error"
    }
   ],
   "source": [
    "# Chances of Recovery\n",
    "\n",
    "# Age is inversely proportional to Recovery.\n",
    "\n",
    "# Chances of Recovery = Recovered Count / Death Count * (1 / (Country's Median Age/100))"
   ]
  },
  {
   "cell_type": "code",
   "execution_count": 18,
   "outputs": [],
   "source": [
    "import pandas as pd\n",
    "import json\n",
    "# df = pd.read_csv('../covid19/data/median_age.tsv', delimiter=\"|\", header=0)\n",
    "\n",
    "data = {}\n",
    "for row in df.iterrows():\n",
    "    v = row[1].values\n",
    "    data[v[1].strip()] =v[2]\n",
    "\n",
    "json.dump(data, open(\"../covid19/data/median_age.json\", 'w'), indent=2)\n",
    "\n"
   ],
   "metadata": {
    "collapsed": false,
    "pycharm": {
     "name": "#%%\n",
     "is_executing": false
    }
   }
  }
 ],
 "metadata": {
  "kernelspec": {
   "name": "pycharm-9b11a32e",
   "language": "python",
   "display_name": "PyCharm (covid19_research)"
  },
  "language_info": {
   "codemirror_mode": {
    "name": "ipython",
    "version": 2
   },
   "file_extension": ".py",
   "mimetype": "text/x-python",
   "name": "python",
   "nbconvert_exporter": "python",
   "pygments_lexer": "ipython2",
   "version": "2.7.6"
  },
  "pycharm": {
   "stem_cell": {
    "cell_type": "raw",
    "source": [],
    "metadata": {
     "collapsed": false
    }
   }
  }
 },
 "nbformat": 4,
 "nbformat_minor": 0
}